{
 "cells": [
  {
   "cell_type": "code",
   "execution_count": 48,
   "id": "c2256342",
   "metadata": {},
   "outputs": [],
   "source": [
    "import pandas as pd\n",
    "import numpy as np\n",
    "\n",
    "path = \"C:/Users/pritam.tamang/Documents/projects/melb_data/melb_data.csv\"\n",
    "df = pd.read_csv(path)\n",
    "\n",
    "# X represents set of data as input for model\n",
    "# y represents corresponding values of result \n",
    "# here we are taking few major attributes to train our model\n",
    "\n",
    "X = df[['Rooms', 'Bathroom', 'Landsize', 'Lattitude', 'Longtitude']]\n",
    "y = df.Price"
   ]
  },
  {
   "cell_type": "code",
   "execution_count": 30,
   "id": "19deb86c",
   "metadata": {},
   "outputs": [
    {
     "data": {
      "text/plain": [
       "array([1480000., 1035000., 1465000., ..., 1170000., 2500000., 1285000.])"
      ]
     },
     "execution_count": 30,
     "metadata": {},
     "output_type": "execute_result"
    }
   ],
   "source": [
    "from sklearn.tree import DecisionTreeRegressor\n",
    "\n",
    "#defining model and we specify random_state to ensure same results every run\n",
    "melbourne_model = DecisionTreeRegressor(random_state=1)\n",
    "\n",
    "#fit model\n",
    "melbourne_model.fit(X,y)\n",
    "\n",
    "#making prediction\n",
    "melbourne_model.predict(X)"
   ]
  },
  {
   "cell_type": "code",
   "execution_count": 44,
   "id": "d443e134",
   "metadata": {},
   "outputs": [
    {
     "data": {
      "text/plain": [
       "1125.1804614629357"
      ]
     },
     "execution_count": 44,
     "metadata": {},
     "output_type": "execute_result"
    }
   ],
   "source": [
    "#we can measure the error of the prediction by using library from sklearn\n",
    "from sklearn.metrics import mean_absolute_error\n",
    "\n",
    "mean_absolute_error(y, melbourne_model.predict(X))"
   ]
  },
  {
   "cell_type": "code",
   "execution_count": 42,
   "id": "2119c63c",
   "metadata": {},
   "outputs": [
    {
     "data": {
      "text/plain": [
       "array([1335000.,  590000., 1420000., ..., 1020000.,  760000., 1225000.])"
      ]
     },
     "execution_count": 42,
     "metadata": {},
     "output_type": "execute_result"
    }
   ],
   "source": [
    "#we used same dataset to train and predict\n",
    "#now, will split data to train and predict by importing library from sklearn\n",
    "from sklearn.model_selection import train_test_split\n",
    "X_train, X_test, y_train, y_test = train_test_split (X, y, random_state = 0)\n",
    "\n",
    "#define model\n",
    "melbourne_modelv2 = DecisionTreeRegressor()\n",
    "\n",
    "#fit model with train value\n",
    "melbourne_modelv2.fit(X_train,y_train)\n",
    "\n",
    "#predict with test value\n",
    "melbourne_modelv2.predict(X_test)"
   ]
  },
  {
   "cell_type": "code",
   "execution_count": 45,
   "id": "a0996e90",
   "metadata": {},
   "outputs": [
    {
     "data": {
      "text/plain": [
       "247696.2699067256"
      ]
     },
     "execution_count": 45,
     "metadata": {},
     "output_type": "execute_result"
    }
   ],
   "source": [
    "#measuring error on new dataset prediction\n",
    "mean_absolute_error(y_test, melbourne_modelv2.predict(X_test))"
   ]
  },
  {
   "cell_type": "code",
   "execution_count": 59,
   "id": "3c386f9a",
   "metadata": {},
   "outputs": [
    {
     "data": {
      "text/plain": [
       "1076292.5119293078"
      ]
     },
     "execution_count": 59,
     "metadata": {},
     "output_type": "execute_result"
    }
   ],
   "source": [
    "#avergage home price\n",
    "y_test.mean()"
   ]
  },
  {
   "cell_type": "code",
   "execution_count": null,
   "id": "a3b02e63",
   "metadata": {},
   "outputs": [],
   "source": [
    "# mean error is almost 1/4 of average home price which is way off"
   ]
  }
 ],
 "metadata": {
  "kernelspec": {
   "display_name": "Python 3 (ipykernel)",
   "language": "python",
   "name": "python3"
  },
  "language_info": {
   "codemirror_mode": {
    "name": "ipython",
    "version": 3
   },
   "file_extension": ".py",
   "mimetype": "text/x-python",
   "name": "python",
   "nbconvert_exporter": "python",
   "pygments_lexer": "ipython3",
   "version": "3.11.3"
  }
 },
 "nbformat": 4,
 "nbformat_minor": 5
}

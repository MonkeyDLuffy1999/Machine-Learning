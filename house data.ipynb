{
 "cells": [
  {
   "cell_type": "code",
   "execution_count": 33,
   "id": "8f716950",
   "metadata": {},
   "outputs": [
    {
     "name": "stdout",
     "output_type": "stream",
     "text": [
      "0        1480000.0\n",
      "1        1035000.0\n",
      "2        1465000.0\n",
      "3         850000.0\n",
      "4        1600000.0\n",
      "           ...    \n",
      "13575    1245000.0\n",
      "13576    1031000.0\n",
      "13577    1170000.0\n",
      "13578    2500000.0\n",
      "13579    1285000.0\n",
      "Name: Price, Length: 13580, dtype: float64\n"
     ]
    }
   ],
   "source": [
    "import pandas as pd\n",
    "\n",
    "\n",
    "path = \"C:/Users/pritam.tamang/Documents/projects/melb_data/melb_data.csv\"\n",
    "df = pd.read_csv(path)\n",
    "\n",
    "# X represents set of data as input for model\n",
    "# y represents corresponding values of result \n",
    "# here we are taking few major attributes to train our model\n",
    "\n",
    "X = df[['Rooms', 'Bathroom', 'Landsize', 'Lattitude', 'Longtitude']]\n",
    "y = df.Price"
   ]
  },
  {
   "cell_type": "code",
   "execution_count": 30,
   "id": "3d974d8b",
   "metadata": {},
   "outputs": [
    {
     "data": {
      "text/plain": [
       "array([1480000., 1035000., 1465000., ..., 1170000., 2500000., 1285000.])"
      ]
     },
     "execution_count": 30,
     "metadata": {},
     "output_type": "execute_result"
    }
   ],
   "source": [
    "from sklearn.tree import DecisionTreeRegressor\n",
    "\n",
    "#defining model and we specify random_state to ensure same results every run\n",
    "melbourne_model = DecisionTreeRegressor(random_state=1)\n",
    "\n",
    "#fit model\n",
    "melbourne_model.fit(X,y)\n",
    "\n",
    "#making prediction\n",
    "melbourne_model.predict(X)"
   ]
  },
  {
   "cell_type": "code",
   "execution_count": null,
   "id": "7b3da3f1",
   "metadata": {},
   "outputs": [],
   "source": []
  }
 ],
 "metadata": {
  "kernelspec": {
   "display_name": "Python 3 (ipykernel)",
   "language": "python",
   "name": "python3"
  },
  "language_info": {
   "codemirror_mode": {
    "name": "ipython",
    "version": 3
   },
   "file_extension": ".py",
   "mimetype": "text/x-python",
   "name": "python",
   "nbconvert_exporter": "python",
   "pygments_lexer": "ipython3",
   "version": "3.11.3"
  }
 },
 "nbformat": 4,
 "nbformat_minor": 5
}

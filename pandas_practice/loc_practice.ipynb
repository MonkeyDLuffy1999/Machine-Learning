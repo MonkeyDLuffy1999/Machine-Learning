{
 "cells": [
  {
   "cell_type": "code",
   "execution_count": 1,
   "id": "be04616d",
   "metadata": {},
   "outputs": [
    {
     "data": {
      "text/plain": [
       "False"
      ]
     },
     "execution_count": 1,
     "metadata": {},
     "output_type": "execute_result"
    }
   ],
   "source": [
    "arrivals = ['Adela', 'Fleda', 'Owen', 'May', 'Mona', 'Gilbert', 'Ford']\n",
    "\n",
    "def fashionably_late(arrivals, name):\n",
    "    \"\"\"Given an ordered list of arrivals to the party and a name, return whether the guest with that\n",
    "    name was fashionably late.\n",
    "    \"\"\"\n",
    "    \n",
    "    return arrivals.index(name.title()) > len(arrivals)/2 and arrivals[-1] != name.title()\n",
    "    \n",
    "    pass\n",
    "\n",
    "fashionably_late(arrivals, \"forD\")\n"
   ]
  },
  {
   "cell_type": "code",
   "execution_count": 58,
   "id": "07f73505",
   "metadata": {},
   "outputs": [
    {
     "data": {
      "text/plain": [
       "2    n\n",
       "Name: y, dtype: object"
      ]
     },
     "execution_count": 58,
     "metadata": {},
     "output_type": "execute_result"
    }
   ],
   "source": [
    "x = ['a','b','a','d','e']\n",
    "y = ['l','m','n','o','p']\n",
    "\n",
    "import pandas as pd\n",
    "df = pd.DataFrame({'x':x, 'y':y})\n",
    "\n",
    "\n",
    "df.loc[df.x=='a', 'y'][df['y'] == 'n']"
   ]
  },
  {
   "cell_type": "code",
   "execution_count": 52,
   "id": "be5014c0",
   "metadata": {},
   "outputs": [
    {
     "data": {
      "text/plain": [
       "0     True\n",
       "1    False\n",
       "2     True\n",
       "3    False\n",
       "4    False\n",
       "Name: x, dtype: bool"
      ]
     },
     "execution_count": 52,
     "metadata": {},
     "output_type": "execute_result"
    }
   ],
   "source": [
    "df.x == 'a'"
   ]
  },
  {
   "cell_type": "code",
   "execution_count": null,
   "id": "2c31a87f",
   "metadata": {},
   "outputs": [],
   "source": []
  }
 ],
 "metadata": {
  "kernelspec": {
   "display_name": "Python 3 (ipykernel)",
   "language": "python",
   "name": "python3"
  },
  "language_info": {
   "codemirror_mode": {
    "name": "ipython",
    "version": 3
   },
   "file_extension": ".py",
   "mimetype": "text/x-python",
   "name": "python",
   "nbconvert_exporter": "python",
   "pygments_lexer": "ipython3",
   "version": "3.11.3"
  }
 },
 "nbformat": 4,
 "nbformat_minor": 5
}
